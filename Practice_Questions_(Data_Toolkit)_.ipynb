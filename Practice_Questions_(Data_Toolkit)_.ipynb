{
  "nbformat": 4,
  "nbformat_minor": 0,
  "metadata": {
    "colab": {
      "private_outputs": true,
      "provenance": []
    },
    "kernelspec": {
      "name": "python3",
      "display_name": "Python 3"
    },
    "language_info": {
      "name": "python"
    }
  },
  "cells": [
    {
      "cell_type": "code",
      "execution_count": null,
      "metadata": {
        "id": "WxFma97Wou_s"
      },
      "outputs": [],
      "source": [
        "#Q.1.Demonstrate three different methods for creating identical 2D arrays in NumPy. Provide the code for each method and the final output after each method.\n"
      ]
    },
    {
      "cell_type": "code",
      "source": [
        "import numpy as np\n",
        "array1 = np.array([[1, 2, 3], [4, 5, 6]])\n",
        "print(\"Method 1:\\n\", array1)\n",
        "array2 = np.arange(1, 7).reshape(2, 3)\n",
        "print(\"\\nMethod 2:\\n\", array2)\n",
        "array3 = np.full((2, 3), [1, 2, 3])\n",
        "print(\"\\nMethod 3:\\n\", array3)"
      ],
      "metadata": {
        "id": "tPHCM4B1pwhc"
      },
      "execution_count": null,
      "outputs": []
    },
    {
      "cell_type": "code",
      "source": [
        "#Q.2.Using the Numpy function, generate an array of 100 evenly spaced numbers between 1 and 10 and Reshape that 1D array into a 2D array\n",
        "\n",
        "import numpy as np\n",
        "\n",
        "array = np.linspace(1, 10, 100).reshape(10, 10)\n",
        "print(array)\n"
      ],
      "metadata": {
        "id": "fA_69TvSp0_h"
      },
      "execution_count": null,
      "outputs": []
    },
    {
      "cell_type": "code",
      "source": [
        "#Q.3. Explain the following terms:\n",
        "#The difference in np.array,np.asarray and np.asanyarray\n",
        "#The difference between Deep copy and shallow copy"
      ],
      "metadata": {
        "id": "cK0YXIpyqPh7"
      },
      "execution_count": null,
      "outputs": []
    },
    {
      "cell_type": "code",
      "source": [
        "#The difference in np.array,np.asarray and np.asanyarray\n",
        "#np.array():\n",
        "\n",
        "lst = [1, 2, 3]\n",
        "arr = np.array(lst)\n",
        "arr"
      ],
      "metadata": {
        "id": "o3xTPaAqqaRR"
      },
      "execution_count": null,
      "outputs": []
    },
    {
      "cell_type": "code",
      "source": [
        "#np.asarray():\n",
        "\n",
        "arr_existing = np.array([1, 2, 3])\n",
        "arr_new = np.asarray(arr_existing)\n",
        "arr_new"
      ],
      "metadata": {
        "id": "B-dAVSN5qrvA"
      },
      "execution_count": null,
      "outputs": []
    },
    {
      "cell_type": "code",
      "source": [
        "#np.asanyarray():\n",
        "\n",
        "from numpy import matrix\n",
        "mat = matrix([[1, 2], [3, 4]])\n",
        "arr = np.asanyarray(mat)\n",
        "arr"
      ],
      "metadata": {
        "id": "ju638HV6qvhn"
      },
      "execution_count": null,
      "outputs": []
    },
    {
      "cell_type": "code",
      "source": [
        "#The Difference Between Deep Copy and Shallow Copy\n",
        "#shallow copy\n",
        "\n",
        "import copy\n",
        "original_list = [[1, 2], [3, 4]]\n",
        "shallow_copy = copy.copy(original_list)\n",
        "\n",
        "shallow_copy[0][0] = 99\n",
        "print(\"Original:\", original_list)"
      ],
      "metadata": {
        "id": "85h4IE5Nq4bj"
      },
      "execution_count": null,
      "outputs": []
    },
    {
      "cell_type": "code",
      "source": [
        "#Deep copy\n",
        "\n",
        "deep_copy = copy.deepcopy(original_list)\n",
        "\n",
        "deep_copy[0][0] = 99\n",
        "print(\"Original:\", original_list)"
      ],
      "metadata": {
        "id": "eR3nHoQXq82W"
      },
      "execution_count": null,
      "outputs": []
    },
    {
      "cell_type": "code",
      "source": [
        "#Q4. Generate a 3x3 array with random floating-point numbers between 5 and 20 then, round each numPbr in the array to 2 decimal places.\n",
        "\n",
        "import numpy as np\n",
        "\n",
        "random_array = np.random.uniform(5, 20, size=(3, 3))\n",
        "\n",
        "rounded_array = np.round(random_array, 2)\n",
        "\n",
        "print(\"Original array:\\n\", random_array)\n",
        "print(\"\\nRounded array:\\n\", rounded_array)"
      ],
      "metadata": {
        "id": "f6D3biDtrAaF"
      },
      "execution_count": null,
      "outputs": []
    },
    {
      "cell_type": "code",
      "source": [
        "#Q5. Create a NumPy array with random integers between 1 and 10 of shape (5,6). After creating the array perform the following operations:\n",
        "\n",
        "# Create a NumPy array with random integers between 1 and 10 of shape (5, 6)\n",
        "random_array = np.random.randint(1, 11, size=(5, 6))\n",
        "print(\"Original Array:\\n\", random_array)\n",
        "\n",
        "# a) Extract all even integers from the array\n",
        "even_integers = random_array[random_array % 2 == 0]\n",
        "print(\"\\nEven Integers:\\n\", even_integers)\n",
        "\n",
        "# b) Extract all odd integers from the array\n",
        "odd_integers = random_array[random_array % 2 != 0]\n",
        "print(\"\\nOdd Integers:\\n\", odd_integers)\n"
      ],
      "metadata": {
        "id": "cbToEQ7erHfw"
      },
      "execution_count": null,
      "outputs": []
    },
    {
      "cell_type": "code",
      "source": [
        "#Q6. Create a 3D NumPy array of shape (3, 3, 3) containing random integers between 1 and 10. Perform the following operations:\n",
        "\n",
        "import numpy as np\n",
        "\n",
        "array_3d = np.random.randint(1, 11, size=(3, 3, 3))\n",
        "print(\"Original 3D Array:\\n\", array_3d)\n",
        "\n",
        "element_121 = array_3d[1, 2, 1]\n",
        "print(\"\\nElement at (1, 2, 1):\", element_121)\n",
        "\n",
        "sub_array = array_3d[:2, :2, :2]\n",
        "print(\"\\nSub-array (2x2x2):\\n\", sub_array)\n",
        "\n",
        "sum_of_elements = np.sum(array_3d)\n",
        "print(\"\\nSum of all elements:\", sum_of_elements)\n",
        "\n",
        "mean_of_elements = np.mean(array_3d)\n",
        "print(\"\\nMean of all elements:\", mean_of_elements)\n",
        "\n",
        "std_deviation = np.std(array_3d)\n",
        "print(\"\\nStandard deviation of all elements:\", std_deviation)"
      ],
      "metadata": {
        "id": "ur7jQ3WKrLfK"
      },
      "execution_count": null,
      "outputs": []
    },
    {
      "cell_type": "code",
      "source": [
        "#Q7. Clean and transform the 'Phone' column in the sample dataset to remove non-numeric characters and convert it to a numeric data type, Also display the table attributes and data types of each column.\n"
      ],
      "metadata": {
        "id": "pNWLzZy1sO5-"
      },
      "execution_count": null,
      "outputs": []
    },
    {
      "cell_type": "code",
      "source": [
        "import pandas as pd\n",
        "\n",
        "# Step 1: Load the CSV file (adjust path if needed)\n",
        "df = pd.read_csv('/content/drive/MyDrive/dataset/People Data.csv')\n",
        "df#Q10. Create a 7*5 Dataframe in Pandas using a series generated from 35 random integers Petween 1 to 6?\n",
        "\n",
        "import pandas as pd\n",
        "import numpy as np\n",
        "\n",
        "series = pd.Series(np.random.randint(1, 7, size=35))\n",
        "\n",
        "df = pd.DataFrame(series.values.reshape(7, 5))\n",
        "\n",
        "print(df)"
      ],
      "metadata": {
        "id": "pSF_P-IGtJYb"
      },
      "execution_count": null,
      "outputs": []
    },
    {
      "cell_type": "code",
      "source": [
        "#Q8. Perform the following tasks using people dataset:\n",
        "#a) Read the 'data.csv' file using pandas, skipping the first 50 rows.\n",
        "#b) Only read the columns: 'Last Name', ‘Gender’,’Email’,‘Phone’ and ‘Salary’ from the file.\n",
        "#c) Display the first 10 rows of the filtered dataset.\n",
        "#d) Extract the ‘Salary’ column as a Series and display its last 5 values."
      ],
      "metadata": {
        "id": "8miXyVd_ugCA"
      },
      "execution_count": null,
      "outputs": []
    },
    {
      "cell_type": "code",
      "source": [
        "import pandas as pd\n",
        "\n",
        "# Step a: Read the CSV file, ensuring the first row (header) is kept\n",
        "df = pd.read_csv('/content/drive/MyDrive/dataset/People Data.csv')\n",
        "\n",
        "# Step b: Skip the first 50 data rows (excluding the header)\n",
        "df_filtered = df.iloc[50:, :]  # This skips the first 50 data rows (after the header)\n",
        "\n",
        "# Step c: Only read the columns: 'Last Name', ‘Gender’, ‘Email’, ‘Phone’, and ‘Salary’\n",
        "df_filtered = df_filtered[['Last Name', 'Gender', 'Email', 'Phone', 'Salary']]\n",
        "\n",
        "# Step d: Display the first 10 rows of the filtered dataset\n",
        "print(\"First 10 rows of the filtered dataset:\\n\", df_filtered.head(10))"
      ],
      "metadata": {
        "id": "5qxOvqS_uhVR"
      },
      "execution_count": null,
      "outputs": []
    },
    {
      "cell_type": "code",
      "source": [
        "#Q9. Filter and select rows from the People_Dataset, where the “Last Name' column contains the name 'Duke', 'Gender' column contains the word Female and ‘Salary’ should Pe less than 85000.\n"
      ],
      "metadata": {
        "id": "jdQdcWE6umSx"
      },
      "execution_count": null,
      "outputs": []
    },
    {
      "cell_type": "code",
      "source": [
        "import pandas as pd\n",
        "\n",
        "# Step 1: Read the entire CSV file, ensuring the first row (header) is kept\n",
        "df = pd.read_csv('/content/drive/MyDrive/dataset/People Data.csv')\n",
        "\n",
        "# Step 2: Filter for rows where:\n",
        "# - Last Name contains 'Duke'\n",
        "# - Gender is 'Female'\n",
        "# - Salary is less than 85000\n",
        "\n",
        "filtered_rows = df[\n",
        "    (df['Last Name'].str.contains('Duke', case=False, na=False)) &  # Case insensitive search for 'Duke'\n",
        "    (df['Gender'].str.contains('Female', case=False, na=False)) &  # Case insensitive search for 'Female'\n",
        "    (df['Salary'] < 85000)  # Salary condition\n",
        "]"
      ],
      "metadata": {
        "id": "aWmsXBHQvYdS"
      },
      "execution_count": null,
      "outputs": []
    },
    {
      "cell_type": "code",
      "source": [
        "#Q10. Create a 7*5 Dataframe in Pandas using a series generated from 35 random integers Petween 1 to 6?\n",
        "\n",
        "import pandas as pd\n",
        "import numpy as np\n",
        "\n",
        "series = pd.Series(np.random.randint(1, 7, size=35))\n",
        "\n",
        "df = pd.DataFrame(series.values.reshape(7, 5))\n",
        "\n",
        "print(df)"
      ],
      "metadata": {
        "id": "onSakGPBvcgP"
      },
      "execution_count": null,
      "outputs": []
    },
    {
      "cell_type": "code",
      "source": [
        "#Q11. Create two different Series, each of length 50, with the following criteria:\n",
        "#a) The first Series should contain random numbers ranging from 10 to 50.\n",
        "#b) The second Series should contain random numbers ranging from 100 to 1000.\n",
        "#c) Create a DataFrame by joining these Series by column, and, change the names of the columns to 'col1', 'col2'.\n"
      ],
      "metadata": {
        "id": "qgN8hPiRwv8u"
      },
      "execution_count": null,
      "outputs": []
    },
    {
      "cell_type": "code",
      "source": [
        "import pandas as pd\n",
        "import numpy as np\n",
        "\n",
        "series1 = pd.Series(np.random.randint(10, 51, size=50))\n",
        "\n",
        "series2 = pd.Series(np.random.randint(100, 1001, size=50))\n",
        "\n",
        "df = pd.concat([series1, series2], axis=1)\n",
        "\n",
        "df = df.rename(columns={0: 'col1', 1: 'col2'})\n",
        "\n",
        "print(df)"
      ],
      "metadata": {
        "id": "MVh_I_9Gw2-i"
      },
      "execution_count": null,
      "outputs": []
    },
    {
      "cell_type": "code",
      "source": [
        "#Q12. Perform the following operations using people data set:\n",
        "#a) Delete the 'Email', 'Phone', and 'Date of birth' columns from the dataset.\n",
        "#b) Delete the rows containing any missing values.\n",
        "#c) Print the final output also.\n"
      ],
      "metadata": {
        "id": "AZTgdWBIw8Nn"
      },
      "execution_count": null,
      "outputs": []
    },
    {
      "cell_type": "code",
      "source": [
        "import pandas as pd\n",
        "\n",
        "# Step 1: Read the entire CSV file, ensuring the first row (header) is kept\n",
        "df = pd.read_csv('/content/drive/MyDrive/dataset/People Data.csv')\n",
        "\n",
        "# Step 2: Delete the 'Email', 'Phone', and 'Date of birth' columns from the dataset\n",
        "df = df.drop(columns=['Email', 'Phone', 'Date of birth'])\n",
        "\n",
        "# Step 3: Delete the rows containing any missing values\n",
        "df = df.dropna()\n",
        "\n",
        "# Step 4: Print the final output\n",
        "print(\"Final DataFrame after deletions and missing values removal:\\n\", df)\n"
      ],
      "metadata": {
        "id": "XQCZ5OqzxDym"
      },
      "execution_count": null,
      "outputs": []
    },
    {
      "cell_type": "code",
      "source": [
        "#Q13. Create two NumPy arrays, x and y, each containing 100 random float values between 0 and 1. Perform the following tasks using Matplotlib and NumPy:\n",
        "#a) Create a scatter plot using x and y, setting the color of the points to red and the marker style to 'o'.\n",
        "#b) Add a horizontal line at y = 0.5 using a dashed line style and label it as 'y = 0.5'.\n",
        "#c) Add a vertical line at x = 0.5 using a dotted line style and label it as 'x = 0.5'.\n",
        "#d) Label the x-axis as 'X-axis' and the y-axis as 'Y-axis'.\n",
        "#e) Set the title of the plot as 'Advanced Scatter Plot of Random Values'.\n",
        "#f) Display a legend for the scatter plot, the horizontal line, and the vertical line."
      ],
      "metadata": {
        "id": "7IILXw1rxIt4"
      },
      "execution_count": null,
      "outputs": []
    },
    {
      "cell_type": "code",
      "source": [
        "import matplotlib.pyplot as plt\n",
        "import numpy as np\n",
        "\n",
        "x = np.random.rand(100)\n",
        "y = np.random.rand(100)\n",
        "\n",
        "plt.scatter(x, y, color='red', marker='o', label='Scatter Plot')\n",
        "\n",
        "plt.axhline(y=0.5, linestyle='--', color='blue', label='y = 0.5')\n",
        "\n",
        "plt.axvline(x=0.5, linestyle=':', color='green', label='x = 0.5')\n",
        "\n",
        "plt.xlabel('X-axis')\n",
        "plt.ylabel('Y-axis')\n",
        "\n",
        "plt.title('Advanced Scatter Plot of Random Values')\n",
        "\n",
        "plt.legend()\n",
        "\n",
        "plt.show()\n"
      ],
      "metadata": {
        "id": "poYHaLkSxbTr"
      },
      "execution_count": null,
      "outputs": []
    },
    {
      "cell_type": "code",
      "source": [
        "#Q14. Create a time-series dataset in a Pandas DataFrame with columns: 'Date', 'Temperature', 'Humidity' and Perform the following tasks using Matplotlib:\n",
        "#a) Plot the 'Temperature' and 'Humidity' on the same plot with different y-axes (left y-axis for 'Temperature' and right y-axis for 'Humidity').\n",
        "#b) Label the x-axis as 'Date'.\n",
        "#c) Set the title of the plot as 'Temperature and Humidity Over Time'."
      ],
      "metadata": {
        "id": "2NghyMhAxe74"
      },
      "execution_count": null,
      "outputs": []
    },
    {
      "cell_type": "code",
      "source": [
        "import pandas as pd\n",
        "import matplotlib.pyplot as plt\n",
        "\n",
        "dates = pd.date_range(start='2023-10-26', periods=30)\n",
        "temperatures = np.random.randint(15, 30, size=30)\n",
        "humidities = np.random.randint(40, 80, size=30)\n",
        "\n",
        "data = {'Date': dates, 'Temperature': temperatures, 'Humidity': humidities}\n",
        "df = pd.DataFrame(data)\n",
        "\n",
        "fig, ax1 = plt.subplots()\n",
        "\n",
        "color = 'tab:red'\n",
        "ax1.set_xlabel('Date')\n",
        "ax1.set_ylabel('Temperature (°C)', color=color)\n",
        "ax1.plot(df['Date'], df['Temperature'], color=color)\n",
        "ax1.tick_params(axis='y', labelcolor=color)\n",
        "\n",
        "ax2 = ax1.twinx()\n",
        "\n",
        "color = 'tab:blue'\n",
        "ax2.set_ylabel('Humidity (%)', color=color)\n",
        "ax2.plot(df['Date'], df['Humidity'], color=color)\n",
        "ax2.tick_params(axis='y', labelcolor=color)\n",
        "\n",
        "plt.title('Temperature and Humidity Over Time')\n",
        "\n",
        "plt.show()"
      ],
      "metadata": {
        "id": "vSh64AKDxlJx"
      },
      "execution_count": null,
      "outputs": []
    },
    {
      "cell_type": "code",
      "source": [
        "#Q15. Create a NumPy array data containing 1000 samples from a normal distribution. Perform the following tasks using Matplotlib:\n",
        "#a) Plot a histogram of the data with 30 bins.\n",
        "#b) Overlay a line plot representing the normal distribution's probability density function (PDF).\n",
        "#c) Label the x-axis as 'Value' and the y-axis as 'Frequency/Probability'.\n",
        "#d) Set the title of the plot as 'Histogram with PDF Overlay'.\n"
      ],
      "metadata": {
        "id": "EtN8h-9sxqHH"
      },
      "execution_count": null,
      "outputs": []
    },
    {
      "cell_type": "code",
      "source": [
        "import numpy as np\n",
        "import matplotlib.pyplot as plt\n",
        "from scipy.stats import norm\n",
        "\n",
        "data = np.random.normal(loc=0, scale=1, size=1000)\n",
        "\n",
        "plt.hist(data, bins=30, density=True, alpha=0.6, color='g', label='Histogram')\n",
        "\n",
        "xmin, xmax = plt.xlim()\n",
        "x = np.linspace(xmin, xmax, 100)\n",
        "\n",
        "p = norm.pdf(x, loc=np.mean(data), scale=np.std(data))\n",
        "\n",
        "plt.plot(x, p, 'k', linewidth=2, label='PDF')\n",
        "\n",
        "plt.xlabel('Value')\n",
        "plt.ylabel('Frequency/Probability')\n",
        "\n",
        "plt.title('Histogram with PDF Overlay')\n",
        "\n",
        "plt.legend()\n",
        "\n",
        "plt.show()"
      ],
      "metadata": {
        "id": "MwfbzXh-xwNl"
      },
      "execution_count": null,
      "outputs": []
    },
    {
      "cell_type": "code",
      "source": [
        "#Q16. Set the title of the plot as 'Histogram with PDF Overlay'\n",
        "\n",
        "import numpy as np\n",
        "import matplotlib.pyplot as plt\n",
        "import seaborn as sns  # For creating the PDF overlay\n",
        "\n",
        "# Step 1: Create a NumPy array with 1000 samples from a normal distribution\n",
        "data = np.random.normal(loc=0, scale=1, size=1000)  # Mean=0, Standard Deviation=1\n",
        "\n",
        "# Step 2: Plot a histogram of the data with 30 bins\n",
        "plt.figure(figsize=(12, 6))  # Set figure size\n",
        "plt.hist(data, bins=30, density=True, alpha=0.6, color='g', label='Histogram')\n",
        "\n",
        "# Step 3: Overlay a line plot representing the normal distribution's PDF\n",
        "# Create an array of values for the x-axis for the PDF\n",
        "x = np.linspace(-4, 4, 1000)\n",
        "# Calculate the PDF using the normal distribution formula\n",
        "pdf = (1 / (np.sqrt(2 * np.pi))) * np.exp(-0.5 * x**2)\n",
        "plt.plot(x, pdf, color='blue', label='Normal Distribution PDF')\n",
        "\n",
        "# Step 4: Label the axes\n",
        "plt.xlabel('Value')\n",
        "plt.ylabel('Frequency/Probability')\n",
        "\n",
        "# Step 5: Set the title of the plot\n",
        "plt.title('Histogram with PDF Overlay')\n",
        "\n",
        "# Step 6: Display the legend\n",
        "plt.legend()\n",
        "\n",
        "# Step 7: Show the plot\n",
        "plt.show()"
      ],
      "metadata": {
        "id": "HdHTvVrsx0Yd"
      },
      "execution_count": null,
      "outputs": []
    },
    {
      "cell_type": "code",
      "source": [
        "#Q17. Create a Seaborn scatter plot of two random arrays, color points based on their position relative to the origin (quadrants), add a legend, label the axes, and set the title as 'Quadrant-wise Scatter Plot'.\n",
        "\n",
        "import seaborn as sns\n",
        "import matplotlib.pyplot as plt\n",
        "import numpy as np\n",
        "\n",
        "x = np.random.randn(100)\n",
        "y = np.random.randn(100)\n",
        "\n",
        "quadrants = []\n",
        "for i in range(len(x)):\n",
        "  if x[i] >= 0 and y[i] >= 0:\n",
        "    quadrants.append('Quadrant 1')\n",
        "  elif x[i] < 0 and y[i] >= 0:\n",
        "    quadrants.append('Quadrant 2')\n",
        "  elif x[i] < 0 and y[i] < 0:\n",
        "    quadrants.append('Quadrant 3')\n",
        "  else:\n",
        "    quadrants.append('Quadrant 4')\n",
        "\n",
        "sns.scatterplot(x=x, y=y, hue=quadrants)\n",
        "\n",
        "plt.legend(title='Quadrant')\n",
        "plt.xlabel('X-axis')\n",
        "plt.ylabel('Y-axis')\n",
        "plt.title('Quadrant-wise Scatter Plot')\n",
        "\n",
        "plt.show()"
      ],
      "metadata": {
        "id": "UiHMXgyHyAa4"
      },
      "execution_count": null,
      "outputs": []
    },
    {
      "cell_type": "code",
      "source": [
        "#Q18. With Bokeh, plot a line chart of a sine wave function, add grid lines, label the axes, and set the title as 'Sine Wave Function'.\n",
        "\n",
        "from bokeh.plotting import figure, show\n",
        "from bokeh.io import output_notebook\n",
        "import numpy as np\n",
        "\n",
        "output_notebook()\n",
        "\n",
        "x = np.linspace(0, 2 * np.pi, 200)\n",
        "y = np.sin(x)\n",
        "\n",
        "p = figure(title=\"Sine Wave Function\", x_axis_label='x', y_axis_label='sin(x)')\n",
        "p.line(x, y, line_width=2)\n",
        "p.grid.grid_line_alpha = 0.3\n",
        "\n",
        "show(p)"
      ],
      "metadata": {
        "id": "Sl78SSaYyE54"
      },
      "execution_count": null,
      "outputs": []
    },
    {
      "cell_type": "code",
      "source": [
        "#Q19. Using Bokeh, generate a bar chart of randomly generated categorical data, color bars based on their values, add hover tooltips to display exact values, label the axes, and set the title as 'Random Categorical Bar Chart'.\n",
        "\n",
        "from bokeh.plotting import figure, show\n",
        "from bokeh.io import output_notebook\n",
        "from bokeh.models import HoverTool\n",
        "import numpy as np\n",
        "\n",
        "output_notebook()\n",
        "\n",
        "categories = ['A', 'B', 'C', 'D', 'E']\n",
        "values = np.random.randint(1, 20, size=len(categories))\n",
        "\n",
        "p = figure(title=\"Random Categorical Bar Chart\", x_axis_label='Category', y_axis_label='Value',\n",
        "           x_range=categories)\n",
        "\n",
        "colors = ['red', 'blue', 'green', 'orange', 'purple']  # Customize colors as needed\n",
        "\n",
        "p.vbar(x=categories, top=values, width=0.5, color=colors)\n",
        "\n",
        "hover = HoverTool(tooltips=[('Category', '@x'), ('Value', '@top')])\n",
        "p.add_tools(hover)\n",
        "\n",
        "show(p)"
      ],
      "metadata": {
        "id": "5DB6LgcYyJQ5"
      },
      "execution_count": null,
      "outputs": []
    },
    {
      "cell_type": "code",
      "source": [
        "#Q20. Using Plotly, create a basic line plot of a randomly generated dataset, label the axes, and set the title as 'Simple Line Plot'.\n",
        "\n",
        "import plotly.graph_objects as go\n",
        "import numpy as np\n",
        "\n",
        "np.random.seed(0)\n",
        "x = np.arange(1, 101)\n",
        "y = np.random.rand(100) * 100\n",
        "\n",
        "fig = go.Figure()\n",
        "\n",
        "fig.add_trace(go.Scatter(x=x, y=y, mode='lines', name='Random Data'))\n",
        "\n",
        "fig.update_layout(\n",
        "    title='Simple Line Plot',\n",
        "    xaxis_title='X-axis',\n",
        "    yaxis_title='Y-axis'\n",
        ")\n",
        "\n",
        "fig.show()"
      ],
      "metadata": {
        "id": "KvYP_-GcyVc9"
      },
      "execution_count": null,
      "outputs": []
    },
    {
      "cell_type": "code",
      "source": [
        "#Q21. Using Plotly, create an interactive pie chart of randomly generated data, add labels and percentages, set the title as 'Interactive Pie Chart'.\n",
        "\n",
        "import plotly.graph_objects as go\n",
        "import numpy as np\n",
        "\n",
        "np.random.seed(0)\n",
        "labels = [f'Category {i}' for i in range(1, 11)]\n",
        "values = np.random.randint(1, 101, size=10)\n",
        "\n",
        "fig = go.Figure(data=[go.Pie(labels=labels, values=values,\n",
        "                               textinfo='label+percent',\n",
        "                               insidetextorientation='radial')])\n",
        "\n",
        "fig.update_layout(title='Interactive Pie Chart')\n",
        "\n",
        "fig.show()"
      ],
      "metadata": {
        "id": "6rlZl8rEyaHf"
      },
      "execution_count": null,
      "outputs": []
    },
    {
      "cell_type": "code",
      "source": [],
      "metadata": {
        "id": "FWuLwl-Lye17"
      },
      "execution_count": null,
      "outputs": []
    }
  ]
}